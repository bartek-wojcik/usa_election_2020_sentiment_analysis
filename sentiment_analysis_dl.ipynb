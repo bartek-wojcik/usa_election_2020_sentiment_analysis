{
  "nbformat": 4,
  "nbformat_minor": 0,
  "metadata": {
    "colab": {
      "name": "sentiment_analysis_dl.ipynb",
      "provenance": [],
      "collapsed_sections": [],
      "include_colab_link": true
    },
    "kernelspec": {
      "display_name": "Python 3",
      "language": "python",
      "name": "python3"
    },
    "language_info": {
      "codemirror_mode": {
        "name": "ipython",
        "version": 3
      },
      "file_extension": ".py",
      "mimetype": "text/x-python",
      "name": "python",
      "nbconvert_exporter": "python",
      "pygments_lexer": "ipython3",
      "version": "3.7.4"
    }
  },
  "cells": [
    {
      "cell_type": "markdown",
      "metadata": {
        "id": "view-in-github",
        "colab_type": "text"
      },
      "source": [
        "<a href=\"https://colab.research.google.com/github/bartek-wojcik/usa_election_2020_sentiment_analysis/blob/master/sentiment_analysis_dl.ipynb\" target=\"_parent\"><img src=\"https://colab.research.google.com/assets/colab-badge.svg\" alt=\"Open In Colab\"/></a>"
      ]
    },
    {
      "cell_type": "markdown",
      "metadata": {
        "id": "lo0OnOM9m4pT"
      },
      "source": [
        "\n",
        "#### Colab Setup"
      ]
    },
    {
      "cell_type": "code",
      "metadata": {
        "colab": {
          "base_uri": "https://localhost:8080/"
        },
        "id": "Wyp_iig_m8an",
        "outputId": "163363d6-0a4e-41da-c475-a18672b8e5f1"
      },
      "source": [
        "# Install java\n",
        "import os\n",
        "! apt-get install -y openjdk-8-jdk-headless -qq > /dev/null\n",
        "os.environ[\"JAVA_HOME\"] = \"/usr/lib/jvm/java-8-openjdk-amd64\"\n",
        "os.environ[\"PATH\"] = os.environ[\"JAVA_HOME\"] + \"/bin:\" + os.environ[\"PATH\"]\n",
        "! java -version\n",
        "\n",
        "# Install pyspark\n",
        "! pip install --ignore-installed -q pyspark==2.4.4\n",
        "\n",
        "# Install Spark NLP\n",
        "! pip install --ignore-installed -q spark-nlp==2.6.5\n"
      ],
      "execution_count": null,
      "outputs": [
        {
          "output_type": "stream",
          "text": [
            "openjdk version \"1.8.0_275\"\n",
            "OpenJDK Runtime Environment (build 1.8.0_275-8u275-b01-0ubuntu1~18.04-b01)\n",
            "OpenJDK 64-Bit Server VM (build 25.275-b01, mixed mode)\n"
          ],
          "name": "stdout"
        }
      ]
    },
    {
      "cell_type": "markdown",
      "metadata": {
        "id": "ZcatmtrrHpix"
      },
      "source": [
        "#### Dataset"
      ]
    },
    {
      "cell_type": "code",
      "metadata": {
        "colab": {
          "base_uri": "https://localhost:8080/"
        },
        "id": "DeqguZ4LDUtN",
        "outputId": "f31681d9-0f0b-4ca2-acb9-c97d653bdb25"
      },
      "source": [
        "from google.colab import drive\n",
        "drive.mount('/content/drive')"
      ],
      "execution_count": null,
      "outputs": [
        {
          "output_type": "stream",
          "text": [
            "Drive already mounted at /content/drive; to attempt to forcibly remount, call drive.mount(\"/content/drive\", force_remount=True).\n"
          ],
          "name": "stdout"
        }
      ]
    },
    {
      "cell_type": "markdown",
      "metadata": {
        "id": "JcsRGNEgm4pY"
      },
      "source": [
        "## Sentiment Analysis Pipeline\n",
        "\n"
      ]
    },
    {
      "cell_type": "markdown",
      "metadata": {
        "id": "xgQI0l_jm4pa"
      },
      "source": [
        "#### 1. Call necessary imports"
      ]
    },
    {
      "cell_type": "code",
      "metadata": {
        "id": "QieWhPT2m4pd"
      },
      "source": [
        "#Imports\n",
        "import sys\n",
        "from pyspark.sql import SparkSession\n",
        "from pyspark.ml import Pipeline\n",
        "from pyspark.sql.functions import array_contains\n",
        "from pyspark.ml import Pipeline, PipelineModel\n",
        "from sparknlp.annotator import *\n",
        "from sparknlp.pretrained import PretrainedPipeline"
      ],
      "execution_count": null,
      "outputs": []
    },
    {
      "cell_type": "markdown",
      "metadata": {
        "id": "8ePrBDnUm4pu"
      },
      "source": [
        "#### 2. Load SparkSession"
      ]
    },
    {
      "cell_type": "code",
      "metadata": {
        "colab": {
          "base_uri": "https://localhost:8080/"
        },
        "id": "AjQlmFfFm4pv",
        "outputId": "de86932c-dcf9-419d-e8de-21da1e3cc616"
      },
      "source": [
        "import sparknlp\n",
        "from pyspark.sql import SQLContext\n",
        "\n",
        "session = SparkSession.builder \\\n",
        "    .appName(\"Spark NLP\")\\\n",
        "    .master(\"local[4]\")\\\n",
        "    .config(\"spark.driver.memory\",\"8G\")\\\n",
        "    .config(\"spark.executor.memory\", \"8G\")\\\n",
        "    .config(\"spark.driver.maxResultSize\", \"0\") \\\n",
        "    .config(\"spark.jars.packages\", \"com.johnsnowlabs.nlp:spark-nlp_2.11:2.6.5\")\\\n",
        "    .config(\"spark.kryoserializer.buffer.max\", \"1000M\")\\\n",
        "    .getOrCreate()\n",
        "\n",
        "print(\"Spark NLP version: \", sparknlp.version())\n",
        "print(\"Apache Spark version: \", session.version)\n",
        "\n",
        "sc = session.sparkContext\n",
        "sqlContext = SQLContext(sc)"
      ],
      "execution_count": null,
      "outputs": [
        {
          "output_type": "stream",
          "text": [
            "Spark NLP version:  2.6.5\n",
            "Apache Spark version:  2.4.4\n"
          ],
          "name": "stdout"
        }
      ]
    },
    {
      "cell_type": "markdown",
      "metadata": {
        "id": "x3X2BgGKm4p0"
      },
      "source": [
        "#### 3. Load data"
      ]
    },
    {
      "cell_type": "code",
      "metadata": {
        "colab": {
          "base_uri": "https://localhost:8080/"
        },
        "id": "wA6SHyHXm4p1",
        "outputId": "b57d898c-488f-4c5d-eb19-31b22c1bbcc3"
      },
      "source": [
        "from pyspark.sql.functions import *\n",
        "from pyspark.sql.types import *\n",
        "\n",
        "candidate = 'donaldtrump'\n",
        "\n",
        "data = session.read\\\n",
        "        .option(\"sep\", \",\")\\\n",
        "        .option(\"multiLine\", \"true\")\\\n",
        "        .option(\"header\", \"true\")\\\n",
        "        .option(\"escape\", '\"')\\\n",
        "        .option(\"delimiter\", \",\")\\\n",
        "        .csv(f'/content/drive/MyDrive/Datasets/hashtag_{candidate}.csv')\n",
        "\n",
        "data.show()"
      ],
      "execution_count": null,
      "outputs": [
        {
          "output_type": "stream",
          "text": [
            "+-------------------+--------------------+--------------------+-----+-------------+-------------------+--------------------+--------------------+----------------+--------------------+-------------------+--------------------+--------------------+------------------+-------------------+-----------------+--------------------+-------------+--------------------+----------+--------------------+\n",
            "|         created_at|            tweet_id|               tweet|likes|retweet_count|             source|             user_id|           user_name|user_screen_name|    user_description|     user_join_date|user_followers_count|       user_location|               lat|               long|             city|             country|    continent|               state|state_code|        collected_at|\n",
            "+-------------------+--------------------+--------------------+-----+-------------+-------------------+--------------------+--------------------+----------------+--------------------+-------------------+--------------------+--------------------+------------------+-------------------+-----------------+--------------------+-------------+--------------------+----------+--------------------+\n",
            "|2020-10-15 00:00:01|1.316529221557252...|#Elecciones2020 |...|  0.0|          0.0|          TweetDeck|         360666534.0|  El Sol Latino News| elsollatinonews|🌐 Noticias de in...|2011-08-23 15:33:45|              1860.0|Philadelphia, PA ...|          25.77427|          -80.19366|             null|United States of ...|North America|             Florida|        FL| 2020-10-21 00:00:00|\n",
            "|2020-10-15 00:00:01|1.316529222748430...|Usa 2020, Trump c...| 26.0|          9.0|   Social Mediaset |         331617619.0|             Tgcom24| MediasetTgcom24|Profilo ufficiale...|2011-07-08 13:12:20|           1067661.0|                null|              null|               null|             null|                null|         null|                null|      null|2020-10-21 00:00:...|\n",
            "|2020-10-15 00:00:02|1.316529228091847...|#Trump: As a stud...|  2.0|          1.0|    Twitter Web App|           8436472.0|              snarke|          snarke|Will mock for foo...|2007-08-26 05:56:11|              1185.0|            Portland|        45.5202471|       -122.6741949|         Portland|United States of ...|North America|              Oregon|        OR|2020-10-21 00:00:...|\n",
            "|2020-10-15 00:00:02|1.316529227471237...|2 hours since las...|  0.0|          0.0|      Trumpytweeter|8.28355589206057e+17|       Trumpytweeter|   trumpytweeter|If he doesn't twe...|2017-02-05 21:32:17|                32.0|                null|              null|               null|             null|                null|         null|                null|      null|2020-10-21 00:00:...|\n",
            "|2020-10-15 00:00:08|1.316529252301451...|You get a tie! An...|  4.0|          3.0| Twitter for iPhone|          47413798.0|Rana Abtar - رنا ...|       Ranaabtar|Washington Corres...|2009-06-15 19:05:35|              5393.0|       Washington DC|        38.8949924|        -77.0365581|       Washington|United States of ...|North America|District of Columbia|        DC|2020-10-21 00:00:...|\n",
            "|2020-10-15 00:00:17|1.316529291052675...|@CLady62 Her 15 m...|  2.0|          0.0|Twitter for Android|        1138416104.0|        Farris Flagg|     FarrisFlagg|#BidenHarris2020 ...|2013-02-01 01:37:38|              2363.0|   Perris,California|        33.7825194|-117.22864779999999|             null|United States of ...|North America|          California|        CA|2020-10-21 00:00:...|\n",
            "|2020-10-15 00:00:17|1.316529289949569...|@richardmarx Glad...|  0.0|          0.0| Twitter for iPhone|7.674018410302095...|      Michael Wilson|     wilsonfire9|                null|2016-08-21 16:43:51|                75.0|          Powell, TN|              null|               null|             null|                null|         null|                null|      null|2020-10-21 00:00:...|\n",
            "|2020-10-15 00:00:18|1.316529293497962...|@DeeviousDenise @...|  0.0|          0.0| Twitter for iPhone|9.007610716314296...|Stacey Gulledge ?...|     sm_gulledge|Patriot, Wife, “S...|2017-08-24 16:45:49|               766.0|           Ohio, USA|40.225356899999994|        -82.6881395|             null|United States of ...|North America|                Ohio|        OH|2020-10-21 00:00:...|\n",
            "|2020-10-15 00:00:20|1.316529301332918...|One of the single...|  0.0|          0.0|    Twitter Web App|         540476889.0|              Jamieo|        jamieo33|Don't know what I...|2012-03-30 00:30:54|               151.0|   Pennsylvania, USA|        40.9699889| -77.72788309999999|             null|United States of ...|North America|        Pennsylvania|        PA|2020-10-21 00:00:...|\n",
            "|2020-10-15 00:00:21|1.316529308576309...|#Election2020 #Tr...|  0.0|          0.0|    Twitter Web App|1.305532976998969...|        Johnny Quest|   JohnnyQuest22|Independent\n",
            "\n",
            "What...|2020-09-14 15:45:18|                 8.0|                null|              null|               null|             null|                null|         null|                null|      null|2020-10-21 00:00:...|\n",
            "|2020-10-15 00:00:23|1.316529316507930...|\"IS THIS WRONG??!...|  0.0|          0.0|    Twitter Web App|         305727891.0|  Dose of Dissonance| Dose_Dissonance|YOUTUBE CHANNEL: ...|2011-05-26 18:09:32|              4622.0|                null|              null|               null|             null|                null|         null|                null|      null|2020-10-21 00:00:...|\n",
            "|2020-10-15 00:00:25|1.316529324418240...|In 2020, #NYPost ...|  0.0|          0.0| Twitter for iPhone|          19940334.0|Change Illinois |...|  changeillinois|Illinois, home of...|2009-02-02 23:08:28|              1396.0|   Chicago, Illinois|41.875561600000005|        -87.6244212|          Chicago|United States of ...|North America|            Illinois|        IL|2020-10-21 00:00:...|\n",
            "|2020-10-15 00:00:26|1.316529328608481...|#Trump #President...|  3.0|          5.0|Twitter for Android|1.243315346397966...|        Ron Burgundy|   Anchorman_USA|I'm kind of a Big...|2020-03-26 23:14:28|               496.0|       San Diego, CA|        32.7174209|-117.16277140000001|        San Diego|United States of ...|North America|          California|        CA|2020-10-21 00:00:...|\n",
            "|2020-10-15 00:00:31|1.316529349290586...|@Susan_Hutch @Joe...|  2.0|          0.0|    Twitter Web App|         343956175.0|     Sebastian White|       SebWrites|Tortured, literar...|2011-07-28 10:07:32|              2755.0|Edinburgh ~ Heart...|        55.9533456|         -3.1883749|City of Edinburgh|      United Kingdom|       Europe|            Scotland|       SCT|2020-10-21 00:00:...|\n",
            "|2020-10-15 00:00:31|1.316529347608678...|►► Tell Politicia...|  0.0|          0.0|      Freebie-Depot|         103083214.0|    🆓 Freebie Depot|    FreebieDepot|Free Stuff - No F...|2010-01-08 20:44:21|              6402.0|USA - Land of the...|              null|               null|             null|                null|         null|                null|      null|2020-10-21 00:00:...|\n",
            "|2020-10-15 00:00:42|1.316529394509402...|@meiselasb I wond...|  3.0|          1.0|    Twitter Web App|8.323776410596803...|          Mark Rager|     Hervorrager|Diploma-Biologist...|2017-02-16 23:54:29|               828.0|             Germany|        51.0834196|         10.4234469|             null|             Germany|       Europe|                null|      null|2020-10-21 00:00:...|\n",
            "|2020-10-15 00:00:42|1.316529393578184...|#Ukraine @RealDon...|  0.0|          2.0|    Twitter Web App|         343956175.0|     Sebastian White|       SebWrites|Tortured, literar...|2011-07-28 10:07:32|              2755.0|Edinburgh ~ Heart...|        55.9533456|         -3.1883749|City of Edinburgh|      United Kingdom|       Europe|            Scotland|       SCT|2020-10-21 00:00:...|\n",
            "|2020-10-15 00:00:44|1.316529405628481...|Now Open! Create ...|  0.0|          0.0|     Hootsuite Inc.|          21932049.0|     OfficePools.com| officepools_com|Visit https://t.c...|2009-02-25 22:52:43|               967.0|                null|              null|               null|             null|                null|         null|                null|      null|2020-10-21 00:00:...|\n",
            "|2020-10-15 00:00:55|1.316529449450565...|#Trump https://t....|  1.0|          1.0|    Twitter Web App|1.083386514816553...|              Cheryl|  Cheryl84037124|                null|2019-01-10 15:34:08|                49.0|                null|              null|               null|             null|                null|         null|                null|      null|2020-10-21 00:00:...|\n",
            "|2020-10-15 00:01:08|1.316529506279018...|@cnnbrk #Trump ow...|  3.0|          2.0| Twitter for iPhone|         194650429.0|           MoClarker|       MoClarker|Media Maven/Scien...|2010-09-24 17:15:43|               101.0|  Santa Monica Beach| 47.00521079999999| -88.96290959999999|             null|United States of ...|North America|            Michigan|        MI|2020-10-21 00:00:...|\n",
            "+-------------------+--------------------+--------------------+-----+-------------+-------------------+--------------------+--------------------+----------------+--------------------+-------------------+--------------------+--------------------+------------------+-------------------+-----------------+--------------------+-------------+--------------------+----------+--------------------+\n",
            "only showing top 20 rows\n",
            "\n"
          ],
          "name": "stdout"
        }
      ]
    },
    {
      "cell_type": "markdown",
      "metadata": {
        "id": "tGvqjVvIm4p8"
      },
      "source": [
        "#### 4. Clean data\n"
      ]
    },
    {
      "cell_type": "code",
      "metadata": {
        "colab": {
          "base_uri": "https://localhost:8080/"
        },
        "id": "w8IkxjF6Id-i",
        "outputId": "468e8a4a-b682-48c1-dfc5-5fb7eafd69a5"
      },
      "source": [
        "def prepare_df(df):\n",
        "    df = df.drop('user_description')\n",
        "    df = df.filter(df.tweet.isNotNull())\n",
        "    df = df.filter(df.collected_at.isNotNull())\n",
        "    df = df.withColumn('tweet', regexp_replace('tweet', 'http\\S+', \"\"))\n",
        "    df = df.withColumn('tweet', regexp_replace('tweet', '(@[A-Za-z]+[A-Za-z0-9-_]+)', \"\"))\n",
        "    df = df.withColumn('tweet', regexp_replace('tweet', '[^a-zA-Z0-9 -]', \"\"))\n",
        "    df = df.withColumn('tweet', regexp_replace('tweet', '/\\s\\s+/g', \" \"))\n",
        "    df = df.withColumnRenamed('tweet', 'text')\n",
        "    return df\n",
        "\n",
        "data = prepare_df(data)\n",
        "\n",
        "data.show()\n"
      ],
      "execution_count": null,
      "outputs": [
        {
          "output_type": "stream",
          "text": [
            "+-------------------+--------------------+--------------------+-----+-------------+-------------------+--------------------+--------------------+----------------+-------------------+--------------------+--------------------+------------------+-------------------+-----------------+--------------------+-------------+--------------------+----------+--------------------+\n",
            "|         created_at|            tweet_id|                text|likes|retweet_count|             source|             user_id|           user_name|user_screen_name|     user_join_date|user_followers_count|       user_location|               lat|               long|             city|             country|    continent|               state|state_code|        collected_at|\n",
            "+-------------------+--------------------+--------------------+-----+-------------+-------------------+--------------------+--------------------+----------------+-------------------+--------------------+--------------------+------------------+-------------------+-----------------+--------------------+-------------+--------------------+----------+--------------------+\n",
            "|2020-10-15 00:00:01|1.316529221557252...|Elecciones2020  E...|  0.0|          0.0|          TweetDeck|         360666534.0|  El Sol Latino News| elsollatinonews|2011-08-23 15:33:45|              1860.0|Philadelphia, PA ...|          25.77427|          -80.19366|             null|United States of ...|North America|             Florida|        FL| 2020-10-21 00:00:00|\n",
            "|2020-10-15 00:00:01|1.316529222748430...|Usa 2020 Trump co...| 26.0|          9.0|   Social Mediaset |         331617619.0|             Tgcom24| MediasetTgcom24|2011-07-08 13:12:20|           1067661.0|                null|              null|               null|             null|                null|         null|                null|      null|2020-10-21 00:00:...|\n",
            "|2020-10-15 00:00:02|1.316529228091847...|Trump As a studen...|  2.0|          1.0|    Twitter Web App|           8436472.0|              snarke|          snarke|2007-08-26 05:56:11|              1185.0|            Portland|        45.5202471|       -122.6741949|         Portland|United States of ...|North America|              Oregon|        OR|2020-10-21 00:00:...|\n",
            "|2020-10-15 00:00:02|1.316529227471237...|2 hours since las...|  0.0|          0.0|      Trumpytweeter|8.28355589206057e+17|       Trumpytweeter|   trumpytweeter|2017-02-05 21:32:17|                32.0|                null|              null|               null|             null|                null|         null|                null|      null|2020-10-21 00:00:...|\n",
            "|2020-10-15 00:00:08|1.316529252301451...|You get a tie And...|  4.0|          3.0| Twitter for iPhone|          47413798.0|Rana Abtar - رنا ...|       Ranaabtar|2009-06-15 19:05:35|              5393.0|       Washington DC|        38.8949924|        -77.0365581|       Washington|United States of ...|North America|District of Columbia|        DC|2020-10-21 00:00:...|\n",
            "|2020-10-15 00:00:17|1.316529291052675...| Her 15 minutes w...|  2.0|          0.0|Twitter for Android|        1138416104.0|        Farris Flagg|     FarrisFlagg|2013-02-01 01:37:38|              2363.0|   Perris,California|        33.7825194|-117.22864779999999|             null|United States of ...|North America|          California|        CA|2020-10-21 00:00:...|\n",
            "|2020-10-15 00:00:17|1.316529289949569...| Glad u got out o...|  0.0|          0.0| Twitter for iPhone|7.674018410302095...|      Michael Wilson|     wilsonfire9|2016-08-21 16:43:51|                75.0|          Powell, TN|              null|               null|             null|                null|         null|                null|      null|2020-10-21 00:00:...|\n",
            "|2020-10-15 00:00:18|1.316529293497962...|   There wont be ...|  0.0|          0.0| Twitter for iPhone|9.007610716314296...|Stacey Gulledge ?...|     sm_gulledge|2017-08-24 16:45:49|               766.0|           Ohio, USA|40.225356899999994|        -82.6881395|             null|United States of ...|North America|                Ohio|        OH|2020-10-21 00:00:...|\n",
            "|2020-10-15 00:00:20|1.316529301332918...|One of the single...|  0.0|          0.0|    Twitter Web App|         540476889.0|              Jamieo|        jamieo33|2012-03-30 00:30:54|               151.0|   Pennsylvania, USA|        40.9699889| -77.72788309999999|             null|United States of ...|North America|        Pennsylvania|        PA|2020-10-21 00:00:...|\n",
            "|2020-10-15 00:00:21|1.316529308576309...|Election2020 Trum...|  0.0|          0.0|    Twitter Web App|1.305532976998969...|        Johnny Quest|   JohnnyQuest22|2020-09-14 15:45:18|                 8.0|                null|              null|               null|             null|                null|         null|                null|      null|2020-10-21 00:00:...|\n",
            "|2020-10-15 00:00:23|1.316529316507930...|IS THIS WRONG Cor...|  0.0|          0.0|    Twitter Web App|         305727891.0|  Dose of Dissonance| Dose_Dissonance|2011-05-26 18:09:32|              4622.0|                null|              null|               null|             null|                null|         null|                null|      null|2020-10-21 00:00:...|\n",
            "|2020-10-15 00:00:25|1.316529324418240...|In 2020 NYPost is...|  0.0|          0.0| Twitter for iPhone|          19940334.0|Change Illinois |...|  changeillinois|2009-02-02 23:08:28|              1396.0|   Chicago, Illinois|41.875561600000005|        -87.6244212|          Chicago|United States of ...|North America|            Illinois|        IL|2020-10-21 00:00:...|\n",
            "|2020-10-15 00:00:26|1.316529328608481...|Trump PresidentTr...|  3.0|          5.0|Twitter for Android|1.243315346397966...|        Ron Burgundy|   Anchorman_USA|2020-03-26 23:14:28|               496.0|       San Diego, CA|        32.7174209|-117.16277140000001|        San Diego|United States of ...|North America|          California|        CA|2020-10-21 00:00:...|\n",
            "|2020-10-15 00:00:31|1.316529349290586...|  Ukraine  impeac...|  2.0|          0.0|    Twitter Web App|         343956175.0|     Sebastian White|       SebWrites|2011-07-28 10:07:32|              2755.0|Edinburgh ~ Heart...|        55.9533456|         -3.1883749|City of Edinburgh|      United Kingdom|       Europe|            Scotland|       SCT|2020-10-21 00:00:...|\n",
            "|2020-10-15 00:00:31|1.316529347608678...| Tell Politicians...|  0.0|          0.0|      Freebie-Depot|         103083214.0|    🆓 Freebie Depot|    FreebieDepot|2010-01-08 20:44:21|              6402.0|USA - Land of the...|              null|               null|             null|                null|         null|                null|      null|2020-10-21 00:00:...|\n",
            "|2020-10-15 00:00:42|1.316529394509402...| I wonder which d...|  3.0|          1.0|    Twitter Web App|8.323776410596803...|          Mark Rager|     Hervorrager|2017-02-16 23:54:29|               828.0|             Germany|        51.0834196|         10.4234469|             null|             Germany|       Europe|                null|      null|2020-10-21 00:00:...|\n",
            "|2020-10-15 00:00:42|1.316529393578184...|Ukraine  impeachm...|  0.0|          2.0|    Twitter Web App|         343956175.0|     Sebastian White|       SebWrites|2011-07-28 10:07:32|              2755.0|Edinburgh ~ Heart...|        55.9533456|         -3.1883749|City of Edinburgh|      United Kingdom|       Europe|            Scotland|       SCT|2020-10-21 00:00:...|\n",
            "|2020-10-15 00:00:44|1.316529405628481...|Now Open Create a...|  0.0|          0.0|     Hootsuite Inc.|          21932049.0|     OfficePools.com| officepools_com|2009-02-25 22:52:43|               967.0|                null|              null|               null|             null|                null|         null|                null|      null|2020-10-21 00:00:...|\n",
            "|2020-10-15 00:00:55|1.316529449450565...|              Trump |  1.0|          1.0|    Twitter Web App|1.083386514816553...|              Cheryl|  Cheryl84037124|2019-01-10 15:34:08|                49.0|                null|              null|               null|             null|                null|         null|                null|      null|2020-10-21 00:00:...|\n",
            "|2020-10-15 00:01:08|1.316529506279018...| Trump owes Ricar...|  3.0|          2.0| Twitter for iPhone|         194650429.0|           MoClarker|       MoClarker|2010-09-24 17:15:43|               101.0|  Santa Monica Beach| 47.00521079999999| -88.96290959999999|             null|United States of ...|North America|            Michigan|        MI|2020-10-21 00:00:...|\n",
            "+-------------------+--------------------+--------------------+-----+-------------+-------------------+--------------------+--------------------+----------------+-------------------+--------------------+--------------------+------------------+-------------------+-----------------+--------------------+-------------+--------------------+----------+--------------------+\n",
            "only showing top 20 rows\n",
            "\n"
          ],
          "name": "stdout"
        }
      ]
    },
    {
      "cell_type": "markdown",
      "metadata": {
        "id": "6KmETFHKIZo0"
      },
      "source": [
        "#### 5. Create pipelines\n"
      ]
    },
    {
      "cell_type": "code",
      "metadata": {
        "id": "LZS8xZTkhDrx",
        "colab": {
          "base_uri": "https://localhost:8080/"
        },
        "outputId": "c0e9e411-a73d-4884-9891-8db45b8899f6"
      },
      "source": [
        "dl_pipeline = PretrainedPipeline('analyze_sentimentdl_use_twitter', lang='en')\r\n",
        "dl_pipeline.model.stages"
      ],
      "execution_count": null,
      "outputs": [
        {
          "output_type": "stream",
          "text": [
            "analyze_sentimentdl_use_twitter download started this may take some time.\n",
            "Approx size to download 928.3 MB\n",
            "[OK!]\n"
          ],
          "name": "stdout"
        },
        {
          "output_type": "execute_result",
          "data": {
            "text/plain": [
              "[document_4e525b9c8a4a,\n",
              " UNIVERSAL_SENTENCE_ENCODER_4de71669b7ec,\n",
              " SentimentDLModel_bf15d1ab889b]"
            ]
          },
          "metadata": {
            "tags": []
          },
          "execution_count": 7
        }
      ]
    },
    {
      "cell_type": "code",
      "metadata": {
        "id": "VqGQaPmUhOVI",
        "colab": {
          "base_uri": "https://localhost:8080/"
        },
        "outputId": "3dd1f77b-fd4f-4b4f-d8d1-82d083d00da8"
      },
      "source": [
        "%%time\r\n",
        "dl_pipeline.annotate(\"I like to play football\")"
      ],
      "execution_count": null,
      "outputs": [
        {
          "output_type": "stream",
          "text": [
            "CPU times: user 20.1 ms, sys: 5.96 ms, total: 26 ms\n",
            "Wall time: 640 ms\n"
          ],
          "name": "stdout"
        },
        {
          "output_type": "execute_result",
          "data": {
            "text/plain": [
              "{'document': ['I like to play football'],\n",
              " 'sentence_embeddings': ['I like to play football'],\n",
              " 'sentiment': ['positive']}"
            ]
          },
          "metadata": {
            "tags": []
          },
          "execution_count": 8
        }
      ]
    },
    {
      "cell_type": "code",
      "metadata": {
        "id": "XRoA-XRZukRl"
      },
      "source": [
        "def dl_analyze(df):\r\n",
        "  result = dl_pipeline.transform(df)\r\n",
        "  return result\r\n",
        " \r\n",
        "dl_result = dl_analyze(data)"
      ],
      "execution_count": null,
      "outputs": []
    },
    {
      "cell_type": "code",
      "metadata": {
        "id": "OLIJwpe2nD2G"
      },
      "source": [
        "import pyspark.sql.functions as F\r\n",
        "\r\n",
        "def results(df):\r\n",
        "    return df.withColumn(\"sentiment_res\", df.sentiment.getItem(0).result)"
      ],
      "execution_count": null,
      "outputs": []
    },
    {
      "cell_type": "code",
      "metadata": {
        "id": "L7eNI8XWnQ2i",
        "colab": {
          "base_uri": "https://localhost:8080/"
        },
        "outputId": "d12ba436-69b7-4210-dfc0-4000b518c9a3"
      },
      "source": [
        "%%time\r\n",
        "\r\n",
        "results(dl_result).withColumn('sentiment_res', regexp_replace('sentiment_res', 'na', 'neutral'))\\\r\n",
        "    .select(['created_at', 'tweet_id', 'text', 'likes', 'retweet_count', 'source', 'user_join_date', 'user_followers_count', 'user_location', 'lat', 'long', 'city', 'country', 'continent', 'state', 'state_code', 'collected_at', 'sentiment_res'])\\\r\n",
        "    .toPandas().to_csv(f'/content/drive/MyDrive/Datasets/{candidate}_sentiment_dl.csv', header=True, index=False)"
      ],
      "execution_count": null,
      "outputs": [
        {
          "output_type": "stream",
          "text": [
            "CPU times: user 25.3 s, sys: 1.54 s, total: 26.8 s\n",
            "Wall time: 48min 6s\n"
          ],
          "name": "stdout"
        }
      ]
    }
  ]
}